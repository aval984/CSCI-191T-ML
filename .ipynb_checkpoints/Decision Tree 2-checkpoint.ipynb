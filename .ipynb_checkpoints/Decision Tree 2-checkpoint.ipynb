{
 "cells": [
  {
   "cell_type": "code",
   "execution_count": 32,
   "metadata": {},
   "outputs": [
    {
     "name": "stdout",
     "output_type": "stream",
     "text": [
      "56000.0\n"
     ]
    }
   ],
   "source": [
    "L = [5554,6296,5590,5707,5496,5027,5469,5817,5434,5610]\n",
    "N = float(sum(L))\n",
    "print(N)\n"
   ]
  },
  {
   "cell_type": "code",
   "execution_count": 33,
   "metadata": {},
   "outputs": [
    {
     "name": "stdout",
     "output_type": "stream",
     "text": [
      "0.09917857142857144\n",
      "0.11242857142857143\n",
      "0.09982142857142857\n",
      "0.10191071428571429\n",
      "0.09814285714285714\n",
      "0.08976785714285715\n",
      "0.09766071428571428\n",
      "0.103875\n",
      "0.09703571428571428\n",
      "0.10017857142857142\n"
     ]
    }
   ],
   "source": [
    "P = [i/N for i in L]\n",
    "for i in range(len(P)):\n",
    "    print(P[i])"
   ]
  },
  {
   "cell_type": "code",
   "execution_count": 42,
   "metadata": {},
   "outputs": [
    {
     "name": "stdout",
     "output_type": "stream",
     "text": [
      "[0.08934218239795919, 0.09978838775510204, 0.08985711096938775, 0.0915249205994898, 0.08851083673469388, 0.08170958896683674, 0.08812309917091836, 0.093084984375, 0.0876197844387755, 0.09014282525510203]\n",
      "0.8997037206632652\n"
     ]
    }
   ],
   "source": [
    "#GINI Calc\n",
    "G = [p*(1-p) for p in P]\n",
    "Gini = lambda Gx: sum([p*(1-p) for p in Gx])\n",
    "print (G)\n",
    "print(sum(G))"
   ]
  },
  {
   "cell_type": "code",
   "execution_count": 47,
   "metadata": {},
   "outputs": [
    {
     "name": "stdout",
     "output_type": "stream",
     "text": [
      "[-0.33064427312820166, -0.3544782218591436, -0.3318570019990944, -0.3357573179117817, -0.32867777065691334, -0.3121818376859514, -0.32775696100210644, -0.3393678953085048, -0.32655820530729623, -0.3325281569350721]\n",
      "E:  -697386.567635835\n"
     ]
    }
   ],
   "source": [
    "#entropy\n",
    "import math\n",
    "E = [p * math.log(p,2) for p in P]\n",
    "print (E)\n",
    "\n",
    "Entropy = lambda Pl: -1 *sum([p * math.log(p,2) if p else 0 for p in Pl])\n",
    "print(\"E: \",Entropy(L))"
   ]
  },
  {
   "cell_type": "code",
   "execution_count": 36,
   "metadata": {},
   "outputs": [
    {
     "name": "stdout",
     "output_type": "stream",
     "text": [
      "[0.09917857142857144, 0.11242857142857143, 0.09982142857142857, 0.10191071428571429, 0.09814285714285714, 0.08976785714285715, 0.09766071428571428, 0.103875, 0.09703571428571428, 0.10017857142857142]\n",
      "3.3198076417940654\n",
      "2.8792490452807016\n",
      "3.0839220885615366\n"
     ]
    }
   ],
   "source": [
    "Probs = lambda Lx: [i/sum(Lx) for i in Lx]\n",
    "\n",
    "L1 = [5371,195,779,3959,855,3089,1360,3897,540,1770]\n",
    "L2 = [183,6101,4811,1748,4641,1938,4109,1920,4894,3840]\n",
    "\n",
    "print(Probs(L))\n",
    "print(Entropy(Probs(L)))\n",
    "print(Entropy(Probs(L1)))\n",
    "print(Entropy(Probs(L2)))\n",
    "\n",
    "#print(sum(L1+L2))"
   ]
  },
  {
   "cell_type": "code",
   "execution_count": 49,
   "metadata": {
    "scrolled": true
   },
   "outputs": [
    {
     "name": "stdout",
     "output_type": "stream",
     "text": [
      "0.8405111072738907\n",
      "Before: 0.8997037206632652\n",
      "After:  0.8605503014532668\n",
      "Information gain:  0.039153419209998375\n"
     ]
    }
   ],
   "source": [
    "s1 = ((sum(L1)/sum(L)))\n",
    "s2 = ((sum(L2)/sum(L)))\n",
    "print(Gini(Probs(L1)))\n",
    "Split = (Gini(Probs(L1))*s1 + Gini(Probs(L2))*s2)\n",
    "Ig = Gini(Probs(L)) - Split\n",
    "\n",
    "print(\"Before:\", Gini(Probs(L)))\n",
    "print(\"After: \", Split)\n",
    "print(\"Information gain: \", Ig)\n"
   ]
  },
  {
   "cell_type": "code",
   "execution_count": 48,
   "metadata": {},
   "outputs": [
    {
     "name": "stdout",
     "output_type": "stream",
     "text": [
      "Before:  1.0\n",
      "Split Entropy:  [-0.0, -0.0, 0.9182958340544896]\n"
     ]
    }
   ],
   "source": [
    "Purity = Entropy\n",
    "Restaurant = [6,6]\n",
    "Split = [[2,0],[0,4],[4,2]]\n",
    "SplitEntropy = [Purity(Probs(l)) for l in Split ]\n",
    "print(\"Before: \", Purity(Probs(Restaurant)))\n",
    "print(\"Split Entropy: \", SplitEntropy)"
   ]
  },
  {
   "cell_type": "code",
   "execution_count": 51,
   "metadata": {},
   "outputs": [
    {
     "name": "stdout",
     "output_type": "stream",
     "text": [
      "0.9709505944546686\n"
     ]
    }
   ],
   "source": [
    "B = [3,2]\n",
    "Bs1=[[1,0],[2,2]]\n",
    "Bs2=[[2,0],[1,2]]\n",
    "Bs3=[[2,1],[1,1]]\n",
    "print(Entropy(Probs(B)))\n"
   ]
  },
  {
   "cell_type": "code",
   "execution_count": null,
   "metadata": {},
   "outputs": [],
   "source": []
  }
 ],
 "metadata": {
  "kernelspec": {
   "display_name": "Python 3",
   "language": "python",
   "name": "python3"
  },
  "language_info": {
   "codemirror_mode": {
    "name": "ipython",
    "version": 3
   },
   "file_extension": ".py",
   "mimetype": "text/x-python",
   "name": "python",
   "nbconvert_exporter": "python",
   "pygments_lexer": "ipython3",
   "version": "3.7.1"
  }
 },
 "nbformat": 4,
 "nbformat_minor": 2
}
