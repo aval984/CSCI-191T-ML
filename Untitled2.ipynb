{
 "cells": [
  {
   "cell_type": "code",
   "execution_count": 3,
   "metadata": {},
   "outputs": [
    {
     "name": "stdout",
     "output_type": "stream",
     "text": [
      "input:  [1 2 3]\n",
      "required output:  14\n",
      "Y, Derivative:  0 -28\n",
      "gradient:  [0 0 0]\n",
      "input:  [1 3 4]\n",
      "required output:  19\n",
      "Y, Derivative:  0 -38\n",
      "gradient:  [0 0 0]\n",
      "input:  [1 4 5]\n",
      "required output:  24\n",
      "Y, Derivative:  0 -48\n",
      "gradient:  [0 0 0]\n",
      "input:  [1 5 6]\n",
      "required output:  29\n",
      "Y, Derivative:  0 -58\n",
      "gradient:  [0 0 0]\n",
      "input:  [1 6 7]\n",
      "required output:  34\n",
      "Y, Derivative:  0 -68\n",
      "gradient:  [0 0 0]\n",
      "input:  [1 8 9]\n",
      "required output:  44\n",
      "Y, Derivative:  0 -88\n",
      "gradient:  [0 0 0]\n",
      "[0. 0. 0.]\n",
      "Error:  844.3333333333334\n",
      "[0. 0. 0.]\n",
      "645.3333333333334\n"
     ]
    }
   ],
   "source": [
    "import numpy as np\n",
    "\n",
    "rate = 0.1\n",
    "X = np.array([[1,2,3], [1,3,4],[1,4,5],[1,5,6],[1,6,7],[1,8,9]])\n",
    "c = [1,2,3]\n",
    "R = np.array([14,19,24,29,34,44])\n",
    "w = np.array([0,0,0])\n",
    "g = np.array([0,0,0])\n",
    "e = 0\n",
    "\n",
    "for x, r in zip(X,R):\n",
    "    print(\"input: \", x)\n",
    "    print(\"required output: \", r)\n",
    "    print(\"Y, Derivative: \", sum(w*x), -2*(r-sum(w*x)))\n",
    "    g = g + (-2*(sum(w*x))* x)\n",
    "    e += (r-sum(w*x))**2\n",
    "    print(\"gradient: \", g)\n",
    "\n",
    "print(g/len(X))\n",
    "print(\"Error: \", e/len(X))\n",
    "w1 = w - g*rate\n",
    "print(w1)\n",
    "for x,r in zip(X,R):\n",
    "    e = (r-sum(w1*x))**2\n",
    "print(e/len(x))\n"
   ]
  },
  {
   "cell_type": "code",
   "execution_count": null,
   "metadata": {},
   "outputs": [],
   "source": [
    "\n"
   ]
  }
 ],
 "metadata": {
  "kernelspec": {
   "display_name": "Python 3",
   "language": "python",
   "name": "python3"
  },
  "language_info": {
   "codemirror_mode": {
    "name": "ipython",
    "version": 3
   },
   "file_extension": ".py",
   "mimetype": "text/x-python",
   "name": "python",
   "nbconvert_exporter": "python",
   "pygments_lexer": "ipython3",
   "version": "3.5.4"
  }
 },
 "nbformat": 4,
 "nbformat_minor": 2
}
